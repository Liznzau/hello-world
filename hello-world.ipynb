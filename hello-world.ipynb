Hello, world!
This is what it means to connect atom with Git
Tough (smile)
